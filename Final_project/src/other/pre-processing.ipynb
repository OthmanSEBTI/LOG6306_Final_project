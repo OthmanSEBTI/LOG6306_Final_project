{
 "cells": [
  {
   "cell_type": "code",
   "execution_count": 1,
   "metadata": {},
   "outputs": [
    {
     "name": "stdout",
     "output_type": "stream",
     "text": [
      "commits-abstract factory.csv done !\n",
      "commits-adapter.csv done !\n",
      "commits-bridge.csv done !\n",
      "commits-builder.csv done !\n",
      "commits-chain of responsibility.csv done !\n",
      "commits-command.csv done !\n",
      "commits-composite.csv done !\n",
      "commits-decorator.csv done !\n",
      "commits-facade.csv done !\n",
      "commits-factory.csv done !\n",
      "commits-flyweight.csv done !\n",
      "commits-interpreter.csv done !\n",
      "commits-iterator.csv done !\n",
      "commits-mediator.csv done !\n"
     ]
    },
    {
     "name": "stderr",
     "output_type": "stream",
     "text": [
      "/tmp/ipykernel_1393/979305979.py:10: FutureWarning: In a future version, object-dtype columns with all-bool values will not be included in reductions with bool_only=True. Explicitly cast to bool dtype instead.\n",
      "  all_commits = pd.concat([all_commits,commits])\n",
      "/tmp/ipykernel_1393/979305979.py:10: FutureWarning: In a future version, object-dtype columns with all-bool values will not be included in reductions with bool_only=True. Explicitly cast to bool dtype instead.\n",
      "  all_commits = pd.concat([all_commits,commits])\n",
      "/tmp/ipykernel_1393/979305979.py:10: FutureWarning: In a future version, object-dtype columns with all-bool values will not be included in reductions with bool_only=True. Explicitly cast to bool dtype instead.\n",
      "  all_commits = pd.concat([all_commits,commits])\n",
      "/tmp/ipykernel_1393/979305979.py:10: FutureWarning: In a future version, object-dtype columns with all-bool values will not be included in reductions with bool_only=True. Explicitly cast to bool dtype instead.\n",
      "  all_commits = pd.concat([all_commits,commits])\n",
      "/tmp/ipykernel_1393/979305979.py:10: FutureWarning: In a future version, object-dtype columns with all-bool values will not be included in reductions with bool_only=True. Explicitly cast to bool dtype instead.\n",
      "  all_commits = pd.concat([all_commits,commits])\n",
      "/tmp/ipykernel_1393/979305979.py:10: FutureWarning: In a future version, object-dtype columns with all-bool values will not be included in reductions with bool_only=True. Explicitly cast to bool dtype instead.\n",
      "  all_commits = pd.concat([all_commits,commits])\n",
      "/tmp/ipykernel_1393/979305979.py:10: FutureWarning: In a future version, object-dtype columns with all-bool values will not be included in reductions with bool_only=True. Explicitly cast to bool dtype instead.\n",
      "  all_commits = pd.concat([all_commits,commits])\n",
      "/tmp/ipykernel_1393/979305979.py:10: FutureWarning: In a future version, object-dtype columns with all-bool values will not be included in reductions with bool_only=True. Explicitly cast to bool dtype instead.\n",
      "  all_commits = pd.concat([all_commits,commits])\n",
      "/tmp/ipykernel_1393/979305979.py:10: FutureWarning: In a future version, object-dtype columns with all-bool values will not be included in reductions with bool_only=True. Explicitly cast to bool dtype instead.\n",
      "  all_commits = pd.concat([all_commits,commits])\n",
      "/tmp/ipykernel_1393/979305979.py:10: FutureWarning: In a future version, object-dtype columns with all-bool values will not be included in reductions with bool_only=True. Explicitly cast to bool dtype instead.\n",
      "  all_commits = pd.concat([all_commits,commits])\n",
      "/tmp/ipykernel_1393/979305979.py:10: FutureWarning: In a future version, object-dtype columns with all-bool values will not be included in reductions with bool_only=True. Explicitly cast to bool dtype instead.\n",
      "  all_commits = pd.concat([all_commits,commits])\n",
      "/tmp/ipykernel_1393/979305979.py:10: FutureWarning: In a future version, object-dtype columns with all-bool values will not be included in reductions with bool_only=True. Explicitly cast to bool dtype instead.\n",
      "  all_commits = pd.concat([all_commits,commits])\n",
      "/tmp/ipykernel_1393/979305979.py:10: FutureWarning: In a future version, object-dtype columns with all-bool values will not be included in reductions with bool_only=True. Explicitly cast to bool dtype instead.\n",
      "  all_commits = pd.concat([all_commits,commits])\n",
      "/tmp/ipykernel_1393/979305979.py:10: FutureWarning: In a future version, object-dtype columns with all-bool values will not be included in reductions with bool_only=True. Explicitly cast to bool dtype instead.\n",
      "  all_commits = pd.concat([all_commits,commits])\n"
     ]
    },
    {
     "name": "stdout",
     "output_type": "stream",
     "text": [
      "commits-memento.csv done !\n",
      "commits-observer.csv done !\n",
      "commits-prototype.csv done !\n",
      "commits-proxy.csv done !\n",
      "commits-singleton.csv done !\n",
      "commits-state.csv done !\n",
      "commits-strategy.csv done !\n",
      "commits-template method.csv done !\n",
      "commits-template.csv done !\n"
     ]
    },
    {
     "name": "stderr",
     "output_type": "stream",
     "text": [
      "/tmp/ipykernel_1393/979305979.py:10: FutureWarning: In a future version, object-dtype columns with all-bool values will not be included in reductions with bool_only=True. Explicitly cast to bool dtype instead.\n",
      "  all_commits = pd.concat([all_commits,commits])\n",
      "/tmp/ipykernel_1393/979305979.py:10: FutureWarning: In a future version, object-dtype columns with all-bool values will not be included in reductions with bool_only=True. Explicitly cast to bool dtype instead.\n",
      "  all_commits = pd.concat([all_commits,commits])\n",
      "/tmp/ipykernel_1393/979305979.py:10: FutureWarning: In a future version, object-dtype columns with all-bool values will not be included in reductions with bool_only=True. Explicitly cast to bool dtype instead.\n",
      "  all_commits = pd.concat([all_commits,commits])\n",
      "/tmp/ipykernel_1393/979305979.py:10: FutureWarning: In a future version, object-dtype columns with all-bool values will not be included in reductions with bool_only=True. Explicitly cast to bool dtype instead.\n",
      "  all_commits = pd.concat([all_commits,commits])\n",
      "/tmp/ipykernel_1393/979305979.py:10: FutureWarning: In a future version, object-dtype columns with all-bool values will not be included in reductions with bool_only=True. Explicitly cast to bool dtype instead.\n",
      "  all_commits = pd.concat([all_commits,commits])\n",
      "/tmp/ipykernel_1393/979305979.py:10: FutureWarning: In a future version, object-dtype columns with all-bool values will not be included in reductions with bool_only=True. Explicitly cast to bool dtype instead.\n",
      "  all_commits = pd.concat([all_commits,commits])\n",
      "/tmp/ipykernel_1393/979305979.py:10: FutureWarning: In a future version, object-dtype columns with all-bool values will not be included in reductions with bool_only=True. Explicitly cast to bool dtype instead.\n",
      "  all_commits = pd.concat([all_commits,commits])\n"
     ]
    }
   ],
   "source": [
    "import pandas as pd\n",
    "import os\n",
    "\n",
    "file_list = os.listdir('/mnt/c/Users/Othman/Desktop/TP-LOG6306/Final_project/Data_collection')\n",
    "\n",
    "all_commits = pd.DataFrame()\n",
    "\n",
    "for file in file_list[:len(file_list)-1]:\n",
    "    commits = pd.read_csv('/mnt/c/Users/Othman/Desktop/TP-LOG6306/Final_project/Data_collection/'+ file)\n",
    "    all_commits = pd.concat([all_commits,commits])\n",
    "    print(f\"{file} done !\")\n",
    "\n",
    "all_commits.to_csv('/mnt/c/Users/Othman/Desktop/TP-LOG6306/Final_project/Data_collection/all_commits.csv')"
   ]
  }
 ],
 "metadata": {
  "kernelspec": {
   "display_name": "Python 3",
   "language": "python",
   "name": "python3"
  },
  "language_info": {
   "codemirror_mode": {
    "name": "ipython",
    "version": 3
   },
   "file_extension": ".py",
   "mimetype": "text/x-python",
   "name": "python",
   "nbconvert_exporter": "python",
   "pygments_lexer": "ipython3",
   "version": "3.10.6"
  },
  "orig_nbformat": 4
 },
 "nbformat": 4,
 "nbformat_minor": 2
}
