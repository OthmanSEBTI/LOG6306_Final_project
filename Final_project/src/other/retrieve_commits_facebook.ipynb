{
 "cells": [
  {
   "cell_type": "code",
   "execution_count": 1,
   "metadata": {},
   "outputs": [
    {
     "name": "stdout",
     "output_type": "stream",
     "text": [
      "singleton extraction done !\n",
      "factory extraction done !\n",
      "abstract factory extraction done !\n",
      "builder extraction done !\n",
      "prototype extraction done !\n",
      "composite extraction done !\n",
      "flyweight extraction done !\n",
      "facade extraction done !\n",
      "bridge extraction done !\n",
      "decorator extraction done !\n",
      "template method extraction done !\n",
      "chain of responsibility extraction done !\n",
      "strategy extraction done !\n",
      "state extraction done !\n",
      "interpreter extraction done !\n",
      "memento extraction done !\n",
      "template extraction done !\n",
      "visitor extraction done !\n",
      "iterator extraction done !\n",
      "adapter extraction done !\n",
      "observer extraction done !\n",
      "proxy extraction done !\n",
      "command extraction done !\n",
      "strategy extraction done !\n",
      "mediator extraction done !\n"
     ]
    }
   ],
   "source": [
    "import requests\n",
    "import json\n",
    "import csv\n",
    "\n",
    "def commits_extraction (pattern) :\n",
    "    url = \"https://api.github.com/search/commits\"\n",
    "    parameters = {\"q\": \"org:facebook \" + pattern +\" pattern\"}\n",
    "    headers = {\"Authorization\": \"Bearer xxxx\"}\n",
    "    response = requests.get(url, params=parameters, headers= headers)\n",
    "    data = json.loads(response.text)['items']\n",
    "\n",
    "    csv_file = open('/mnt/c/Users/Othman/Desktop/TP-LOG6306/Final_project/Data_collection/commits-'+pattern+'.csv', mode='w')  \n",
    "    writer = csv.writer(csv_file)\n",
    "    writer.writerow(['sha','message', 'html_url','repository_id', 'repository_full_name','repository_private','repository_fork'])\n",
    "\n",
    "    for commit in data:\n",
    "        writer.writerow([commit['sha'],commit['commit']['message'].replace('\\n','/').replace('\\r','/'), commit['html_url'], commit['repository']['id'], commit['repository']['full_name'],commit['repository']['private'],commit['repository']['fork']])\n",
    "\n",
    "\n",
    "for pattern in ['singleton','factory','abstract factory', 'builder','prototype','composite'\n",
    "                ,'flyweight','facade','bridge','decorator', 'template method','chain of responsibility',\n",
    "                'strategy','state','interpreter','memento','template','visitor','iterator','adapter',\n",
    "                'observer','proxy','command','strategy','mediator']:\n",
    "    commits_extraction(pattern)\n",
    "    print(f\"{pattern} extraction done !\")"
   ]
  }
 ],
 "metadata": {
  "kernelspec": {
   "display_name": "Python 3",
   "language": "python",
   "name": "python3"
  },
  "language_info": {
   "codemirror_mode": {
    "name": "ipython",
    "version": 3
   },
   "file_extension": ".py",
   "mimetype": "text/x-python",
   "name": "python",
   "nbconvert_exporter": "python",
   "pygments_lexer": "ipython3",
   "version": "3.10.6"
  },
  "orig_nbformat": 4
 },
 "nbformat": 4,
 "nbformat_minor": 2
}
