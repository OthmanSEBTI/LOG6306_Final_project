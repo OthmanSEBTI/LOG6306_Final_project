{
 "cells": [
  {
   "cell_type": "code",
   "execution_count": 26,
   "metadata": {},
   "outputs": [],
   "source": [
    "import pandas as pd\n",
    "from datetime import datetime\n",
    "import statistics\n",
    "import scipy.stats as stats\n",
    "from datetime import datetime, timedelta\n",
    "\n",
    "df = pd.read_csv('commits_issues_mapping1_with_issue_duration.csv')\n",
    "df1 = pd.read_csv('100_means.csv')\n",
    "\n"
   ]
  },
  {
   "cell_type": "code",
   "execution_count": 27,
   "metadata": {},
   "outputs": [],
   "source": [
    "import re\n",
    "from datetime import timedelta\n",
    "\n",
    "def str_to_date_time(duration_str) :\n",
    "\n",
    "    # Extract the number of days, hours, minutes, and seconds from the duration string\n",
    "    pattern = r'(\\d+) days (\\d+):(\\d+):(\\d+)'\n",
    "    match = re.match(pattern, duration_str)\n",
    "    days = int(match.group(1))\n",
    "    hours = int(match.group(2))\n",
    "    minutes = int(match.group(3))\n",
    "    seconds = int(match.group(4))\n",
    "\n",
    "    # Create a timedelta object with the extracted values\n",
    "    duration = timedelta(days=days, hours=hours, minutes=minutes, seconds=seconds)\n",
    "    duration_seconds = duration.total_seconds()\n",
    "    return (duration_seconds)\n"
   ]
  },
  {
   "cell_type": "code",
   "execution_count": 28,
   "metadata": {},
   "outputs": [],
   "source": [
    "issues_without_patterns = []\n",
    "issues_with_patterns = []\n",
    "\n",
    "for i in range(0,df.shape[0]):\n",
    "    issues_with_patterns.append(str_to_date_time(df['issue_duration'][i]))\n",
    "\n",
    "for i in range(0,df1.shape[0]):\n",
    "    issues_without_patterns.append(str_to_date_time(df1['issue_duration'][i]))"
   ]
  },
  {
   "cell_type": "code",
   "execution_count": 29,
   "metadata": {},
   "outputs": [
    {
     "data": {
      "text/plain": [
       "4.681079898887847e-19"
      ]
     },
     "execution_count": 29,
     "metadata": {},
     "output_type": "execute_result"
    }
   ],
   "source": [
    "stats.mannwhitneyu(issues_without_patterns , issues_with_patterns).pvalue"
   ]
  }
 ],
 "metadata": {
  "kernelspec": {
   "display_name": "Python 3",
   "language": "python",
   "name": "python3"
  },
  "language_info": {
   "codemirror_mode": {
    "name": "ipython",
    "version": 3
   },
   "file_extension": ".py",
   "mimetype": "text/x-python",
   "name": "python",
   "nbconvert_exporter": "python",
   "pygments_lexer": "ipython3",
   "version": "3.10.6"
  },
  "orig_nbformat": 4
 },
 "nbformat": 4,
 "nbformat_minor": 2
}
