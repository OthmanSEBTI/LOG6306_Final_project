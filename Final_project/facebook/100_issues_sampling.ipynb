{
 "cells": [
  {
   "cell_type": "code",
   "execution_count": 5,
   "metadata": {},
   "outputs": [
    {
     "data": {
      "text/plain": [
       "35"
      ]
     },
     "execution_count": 5,
     "metadata": {},
     "output_type": "execute_result"
    }
   ],
   "source": [
    "import pandas as pd\n",
    "\n",
    "d = pd.read_csv('all_commits.csv')\n",
    "repo_list = d['repository_full_name'].drop_duplicates().to_list()\n",
    "\n",
    "len(repo_list)"
   ]
  },
  {
   "cell_type": "code",
   "execution_count": 6,
   "metadata": {},
   "outputs": [],
   "source": [
    "from github import Github\n",
    "import csv\n",
    "import random\n",
    "\n",
    "\n",
    "repos = repo_list\n",
    "\n",
    "all_repos_issues = open('all_repos_issues3.csv', 'w', newline='', encoding='utf-8') \n",
    "writer = csv.writer(all_repos_issues)\n",
    "writer.writerow(['repo','id', 'title', 'state', 'created_at', 'closed_at'])\n",
    "\n",
    "for repo in repos:\n",
    "\n",
    "    try :\n",
    "\n",
    "        g = Github(\"xxxxx\")\n",
    "        repo = g.get_repo(repo)\n",
    "        all_issues = repo.get_issues(state=\"all\")\n",
    "\n",
    "\n",
    "        random_issues = random.sample(list(all_issues), k=100)\n",
    "        \n",
    "    except Exception :\n",
    "            continue\n",
    "    \n",
    "    for issue in random_issues:\n",
    "        writer.writerow([repo.full_name,issue.id, issue.title, issue.state, issue.created_at, issue.closed_at])\n",
    "\n",
    "all_repos_issues.close()\n"
   ]
  },
  {
   "cell_type": "code",
   "execution_count": 7,
   "metadata": {},
   "outputs": [],
   "source": [
    "from datetime import datetime\n",
    "\n",
    "df = pd.read_csv('all_repos_issues3.csv')\n",
    "\n",
    "issue_duration = []\n",
    "\n",
    "date_format = '%Y-%m-%d %H:%M:%S'\n",
    "\n",
    "for i in range(0,df.shape[0]):\n",
    "\n",
    "    if df['state'][i] == 'closed' :\n",
    "        date_creation = datetime.strptime(df['created_at'][i], date_format)\n",
    "        date_closing = datetime.strptime(df['closed_at'][i], date_format)\n",
    "\n",
    "    else :\n",
    "        date_creation = datetime.strptime(df['created_at'][i], date_format)\n",
    "        date_closing = datetime.strptime(df['created_at'][i], date_format)\n",
    "\n",
    "    duration = date_closing - date_creation\n",
    "    issue_duration.append(duration)"
   ]
  },
  {
   "cell_type": "code",
   "execution_count": 8,
   "metadata": {},
   "outputs": [],
   "source": [
    "df ['issue_duration'] = issue_duration\n",
    "df.to_csv('/mnt/c/Users/Othman/Desktop/TP-LOG6306/Final_project/facebook/100_issues_samples_with_issue_duration.csv')"
   ]
  },
  {
   "cell_type": "code",
   "execution_count": 9,
   "metadata": {},
   "outputs": [],
   "source": [
    "means = df.groupby('repo')['issue_duration'].mean()\n",
    "df['means'] = df.groupby('repo')['issue_duration'].transform('mean')"
   ]
  },
  {
   "cell_type": "code",
   "execution_count": 10,
   "metadata": {},
   "outputs": [],
   "source": [
    "means.to_csv('/mnt/c/Users/Othman/Desktop/TP-LOG6306/Final_project/facebook/100_means.csv')\n",
    "df.to_csv('/mnt/c/Users/Othman/Desktop/TP-LOG6306/Final_project/facebook/100_means_per_issue.csv')"
   ]
  }
 ],
 "metadata": {
  "kernelspec": {
   "display_name": "Python 3",
   "language": "python",
   "name": "python3"
  },
  "language_info": {
   "codemirror_mode": {
    "name": "ipython",
    "version": 3
   },
   "file_extension": ".py",
   "mimetype": "text/x-python",
   "name": "python",
   "nbconvert_exporter": "python",
   "pygments_lexer": "ipython3",
   "version": "3.10.6"
  },
  "orig_nbformat": 4
 },
 "nbformat": 4,
 "nbformat_minor": 2
}
