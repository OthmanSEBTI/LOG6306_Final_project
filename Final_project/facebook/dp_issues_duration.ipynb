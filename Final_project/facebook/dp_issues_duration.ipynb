{
 "cells": [
  {
   "cell_type": "code",
   "execution_count": 1,
   "metadata": {},
   "outputs": [],
   "source": [
    "import pandas as pd\n",
    "from datetime import datetime\n",
    "import statistics\n",
    "import scipy.stats as stats\n",
    "\n",
    "df = pd.read_csv('/mnt/c/Users/Othman/Desktop/TP-LOG6306/Final_project/facebook/commits_issues_mapping1.csv')\n",
    "\n",
    "issue_duration = []\n",
    "\n",
    "date_format = '%Y-%m-%d %H:%M:%S'\n",
    "\n",
    "for i in range(0,df.shape[0]):\n",
    "\n",
    "    if df['issue_state'][i] == 'closed' :\n",
    "        date_creation = datetime.strptime(df['creation_date'][i].replace('T',' ').replace('Z',''), date_format)\n",
    "        date_closing = datetime.strptime(df['closing_date'][i].replace('T',' ').replace('Z',''), date_format)\n",
    "\n",
    "    else :\n",
    "        date_creation = datetime.strptime(df['creation_date'][i].replace('T',' ').replace('Z',''), date_format)\n",
    "        date_closing = datetime.strptime(df['creation_date'][i].replace('T',' ').replace('Z',''), date_format)\n",
    "\n",
    "    duration = date_closing - date_creation\n",
    "    issue_duration.append(duration)"
   ]
  },
  {
   "cell_type": "code",
   "execution_count": 2,
   "metadata": {},
   "outputs": [],
   "source": [
    "df ['issue_duration'] = issue_duration\n",
    "df.to_csv('/mnt/c/Users/Othman/Desktop/TP-LOG6306/Final_project/facebook/commits_issues_mapping1_with_issue_duration.csv')"
   ]
  }
 ],
 "metadata": {
  "kernelspec": {
   "display_name": "Python 3",
   "language": "python",
   "name": "python3"
  },
  "language_info": {
   "codemirror_mode": {
    "name": "ipython",
    "version": 3
   },
   "file_extension": ".py",
   "mimetype": "text/x-python",
   "name": "python",
   "nbconvert_exporter": "python",
   "pygments_lexer": "ipython3",
   "version": "3.10.6"
  },
  "orig_nbformat": 4
 },
 "nbformat": 4,
 "nbformat_minor": 2
}
